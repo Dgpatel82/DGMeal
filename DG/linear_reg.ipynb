{
  "metadata": {
    "kernelspec": {
      "name": "python",
      "display_name": "Python (Pyodide)",
      "language": "python"
    },
    "language_info": {
      "codemirror_mode": {
        "name": "python",
        "version": 3
      },
      "file_extension": ".py",
      "mimetype": "text/x-python",
      "name": "python",
      "nbconvert_exporter": "python",
      "pygments_lexer": "ipython3",
      "version": "3.8"
    }
  },
  "nbformat_minor": 5,
  "nbformat": 4,
  "cells": [
    {
      "cell_type": "code",
      "source": "import matplotlib.pyplot as plt\nimport numpy as np\nimport pandas as pd\nfrom sklearn import datasets, linear_model\nfrom sklearn.metrics import mean_squared_error, r2_score, mean_absolute_error\nfrom sklearn.model_selection import train_test_split",
      "metadata": {
        "trusted": true
      },
      "execution_count": null,
      "outputs": [],
      "id": "fe55883a-6887-43dd-9498-5333a51799e2"
    },
    {
      "cell_type": "code",
      "source": "data=pd.read_csv(\"youtubers_df.csv\",index_col=0)\ndata",
      "metadata": {
        "trusted": true
      },
      "execution_count": null,
      "outputs": [],
      "id": "88301fa5-a815-4b27-819c-25e0d65eb67f"
    },
    {
      "cell_type": "code",
      "source": "data.shape",
      "metadata": {
        "trusted": true
      },
      "execution_count": null,
      "outputs": [],
      "id": "84306a94-0d42-41e7-9be8-baae24d7ccbb"
    },
    {
      "cell_type": "code",
      "source": "target='Visits'\nx=data.loc[:,data.columns!=target]\ny=data.loc[:,data.columns==target]",
      "metadata": {
        "trusted": true
      },
      "execution_count": null,
      "outputs": [],
      "id": "528c8681-300e-4cb6-aa03-59007d985a68"
    },
    {
      "cell_type": "code",
      "source": "X_train,X_test,y_train,y_test=train_test_split(X,y,test_size=0.3,random_state=0)",
      "metadata": {
        "trusted": true
      },
      "execution_count": null,
      "outputs": [],
      "id": "b087dd0f-4a62-40ef-b47f-ffaea3666ba8"
    },
    {
      "cell_type": "code",
      "source": "regr=linear_model.LinearRegression()",
      "metadata": {
        "trusted": true
      },
      "execution_count": null,
      "outputs": [],
      "id": "c3c3b237-3649-4c35-ab88-e0bc13ea0ae6"
    },
    {
      "cell_type": "code",
      "source": "regr.fit(X_train,y_train)",
      "metadata": {
        "trusted": true
      },
      "execution_count": null,
      "outputs": [],
      "id": "5ce1b01a-3640-490c-af6b-e202fddc0619"
    },
    {
      "cell_type": "code",
      "source": "y_pred=regr.predict(X_test)\nX_pred=regr.predict(X_train)\n",
      "metadata": {
        "trusted": true
      },
      "execution_count": null,
      "outputs": [],
      "id": "9668c28a-8582-4df9-839e-b8cc6f214e8d"
    },
    {
      "cell_type": "code",
      "source": "plt.scanner(X_train,y_train,color='green')\nplt.plot(X_test,y_pred,color=\"red\")\nplt.show()",
      "metadata": {
        "trusted": true
      },
      "execution_count": null,
      "outputs": [],
      "id": "70269c62-f284-410c-ae04-21908d4e3621"
    },
    {
      "cell_type": "code",
      "source": "",
      "metadata": {},
      "execution_count": null,
      "outputs": [],
      "id": "48b29864-2cfe-4127-8bbd-5c6fdbac7461"
    },
    {
      "cell_type": "code",
      "source": "",
      "metadata": {},
      "execution_count": null,
      "outputs": [],
      "id": "f885b2ef-f3ba-43ae-91ff-400827931629"
    },
    {
      "cell_type": "code",
      "source": "",
      "metadata": {},
      "execution_count": null,
      "outputs": [],
      "id": "4d9a8e03-863f-4ddf-8690-f9f12fc796f0"
    }
  ]
}